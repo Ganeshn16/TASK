{
 "cells": [
  {
   "cell_type": "code",
   "execution_count": null,
   "id": "300c848b",
   "metadata": {},
   "outputs": [],
   "source": [
    "! pip install translate"
   ]
  },
  {
   "cell_type": "code",
   "execution_count": null,
   "id": "03427189",
   "metadata": {},
   "outputs": [],
   "source": [
    "from translate import Translator\n",
    "\n",
    "def english_to_hindi(text):\n",
    "    # Translate English to Hindi\n",
    "    translator = Translator(to_lang=\"hi\", from_lang=\"en\")\n",
    "    hindi_text = translator.translate(text)\n",
    "\n",
    "    return hindi_text\n",
    "\n",
    "# Get user input for English text\n",
    "user_input = input(\"Enter an English sentence to translate to Hindi : \")\n",
    "\n",
    "# Translate the user input to Hindi\n",
    "hindi_translation = english_to_hindi(user_input)\n",
    "\n",
    "# Print the Hindi translation\n",
    "print(\"Hindi Translation : \")\n",
    "print(hindi_translation)"
   ]
  },
  {
   "cell_type": "code",
   "execution_count": null,
   "id": "86d1e7fa",
   "metadata": {},
   "outputs": [],
   "source": []
  }
 ],
 "metadata": {
  "kernelspec": {
   "display_name": "Python 3 (ipykernel)",
   "language": "python",
   "name": "python3"
  },
  "language_info": {
   "codemirror_mode": {
    "name": "ipython",
    "version": 3
   },
   "file_extension": ".py",
   "mimetype": "text/x-python",
   "name": "python",
   "nbconvert_exporter": "python",
   "pygments_lexer": "ipython3",
   "version": "3.9.13"
  }
 },
 "nbformat": 4,
 "nbformat_minor": 5
}
